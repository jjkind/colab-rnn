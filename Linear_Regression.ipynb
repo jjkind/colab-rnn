{
  "nbformat": 4,
  "nbformat_minor": 0,
  "metadata": {
    "colab": {
      "provenance": [],
      "authorship_tag": "ABX9TyNK824RfQIVfwYq9usZ7mo0",
      "include_colab_link": true
    },
    "kernelspec": {
      "name": "python3",
      "display_name": "Python 3"
    },
    "language_info": {
      "name": "python"
    }
  },
  "cells": [
    {
      "cell_type": "markdown",
      "metadata": {
        "id": "view-in-github",
        "colab_type": "text"
      },
      "source": [
        "<a href=\"https://colab.research.google.com/github/jjkind/colab-rnn/blob/main/Linear_Regression.ipynb\" target=\"_parent\"><img src=\"https://colab.research.google.com/assets/colab-badge.svg\" alt=\"Open In Colab\"/></a>"
      ]
    },
    {
      "cell_type": "code",
      "execution_count": 1,
      "metadata": {
        "id": "Z9uDAhH7W1v-"
      },
      "outputs": [],
      "source": [
        "import tensorflow as tf"
      ]
    },
    {
      "cell_type": "code",
      "source": [
        "import pandas as pd\n",
        "import numpy as np\n",
        "import matplotlib.pyplot as plt"
      ],
      "metadata": {
        "id": "RO8dh_43W--H"
      },
      "execution_count": 2,
      "outputs": []
    },
    {
      "cell_type": "code",
      "source": [
        "!wget https://raw.githubusercontent.com/lazyprogrammer/machine_learning_examples/master/linear_regression_class/moore.csv"
      ],
      "metadata": {
        "colab": {
          "base_uri": "https://localhost:8080/"
        },
        "id": "zTqr5XK_XH3D",
        "outputId": "e25cd0a4-aba3-4c54-c877-bfeceea89477"
      },
      "execution_count": 65,
      "outputs": [
        {
          "output_type": "stream",
          "name": "stdout",
          "text": [
            "--2023-09-10 23:47:53--  https://raw.githubusercontent.com/lazyprogrammer/machine_learning_examples/master/linear_regression_class/moore.csv\n",
            "Resolving raw.githubusercontent.com (raw.githubusercontent.com)... 185.199.109.133, 185.199.108.133, 185.199.111.133, ...\n",
            "Connecting to raw.githubusercontent.com (raw.githubusercontent.com)|185.199.109.133|:443... connected.\n",
            "HTTP request sent, awaiting response... 200 OK\n",
            "Length: 5798 (5.7K) [text/plain]\n",
            "Saving to: ‘moore.csv’\n",
            "\n",
            "moore.csv           100%[===================>]   5.66K  --.-KB/s    in 0s      \n",
            "\n",
            "2023-09-10 23:47:54 (68.7 MB/s) - ‘moore.csv’ saved [5798/5798]\n",
            "\n"
          ]
        }
      ]
    },
    {
      "cell_type": "code",
      "source": [
        "data = pd.read_csv('moore.csv', delimiter='\\t', header=None, usecols=[1,2]).to_numpy()"
      ],
      "metadata": {
        "id": "zN4pYJYkDU6u"
      },
      "execution_count": 88,
      "outputs": []
    },
    {
      "cell_type": "code",
      "source": [
        "\n",
        "# clean_data\n",
        "clean_data = []\n",
        "for item in data:\n",
        "  if (('[' not in item[0]) & ('[' not in item[1]) & ('cca' not in item[0])):\n",
        "    clean_data.append([int(item[0].replace(',','')), int(item[1])])\n",
        "clean_data_arr = np.array(clean_data)"
      ],
      "metadata": {
        "id": "D5bJBIwTGYmZ"
      },
      "execution_count": 154,
      "outputs": []
    },
    {
      "cell_type": "code",
      "source": [
        "clean_data_arr"
      ],
      "metadata": {
        "colab": {
          "base_uri": "https://localhost:8080/"
        },
        "id": "R1LIfu4uKkdG",
        "outputId": "7d278088-e39e-4c49-9cc5-3d494f04482e"
      },
      "execution_count": 155,
      "outputs": [
        {
          "output_type": "execute_result",
          "data": {
            "text/plain": [
              "array([[      2300,       1971],\n",
              "       [      3500,       1972],\n",
              "       [      4500,       1974],\n",
              "       [      4100,       1974],\n",
              "       [      5000,       1974],\n",
              "       [      6500,       1976],\n",
              "       [      8500,       1976],\n",
              "       [     29000,       1978],\n",
              "       [      9000,       1978],\n",
              "       [     29000,       1979],\n",
              "       [     68000,       1979],\n",
              "       [     55000,       1982],\n",
              "       [    134000,       1982],\n",
              "       [    275000,       1985],\n",
              "       [    300000,       1989],\n",
              "       [   1180235,       1989],\n",
              "       [     35000,       1991],\n",
              "       [   1350000,       1991],\n",
              "       [   3100000,       1993],\n",
              "       [   4300000,       1996],\n",
              "       [   8800000,       1997],\n",
              "       [   7500000,       1997],\n",
              "       [   7500000,       1998],\n",
              "       [  21300000,       1999],\n",
              "       [  22000000,       1999],\n",
              "       [  27400000,       1999],\n",
              "       [   9500000,       1999],\n",
              "       [  42000000,       2000],\n",
              "       [  21000000,       2000],\n",
              "       [  45000000,       2001],\n",
              "       [ 220000000,       2002],\n",
              "       [  55000000,       2002],\n",
              "       [ 105900000,       2003],\n",
              "       [  54300000,       2003],\n",
              "       [ 410000000,       2003],\n",
              "       [ 592000000,       2004],\n",
              "       [ 112000000,       2004],\n",
              "       [ 169000000,       2005],\n",
              "       [ 228000000,       2005],\n",
              "       [ 241000000,       2006],\n",
              "       [ 291000000,       2006],\n",
              "       [ 184000000,       2006],\n",
              "       [ 362000000,       2006],\n",
              "       [ 169000000,       2007],\n",
              "       [ 411000000,       2007],\n",
              "       [ 789000000,       2007],\n",
              "       [  47000000,       2008],\n",
              "       [ 230000000,       2008],\n",
              "       [ 731000000,       2008],\n",
              "       [1900000000,       2008],\n",
              "       [ 904000000,       2009],\n",
              "       [1200000000,       2010],\n",
              "       [1400000000,       2010],\n",
              "       [1170000000,       2010],\n",
              "       [2600000000,       2011],\n",
              "       [1160000000,       2011],\n",
              "       [3100000000,       2012],\n",
              "       [2100000000,       2012],\n",
              "       [1303000000,       2012],\n",
              "       [1400000000,       2012],\n",
              "       [2750000000,       2012],\n",
              "       [4200000000,       2013],\n",
              "       [1000000000,       2013],\n",
              "       [1860000000,       2013],\n",
              "       [5000000000,       2013],\n",
              "       [2000000000,       2014],\n",
              "       [3990000000,       2015],\n",
              "       [7100000000,       2015]])"
            ]
          },
          "metadata": {},
          "execution_count": 155
        }
      ]
    },
    {
      "cell_type": "code",
      "source": [
        "Y = clean_data_arr[:,0].reshape(-1, 1) #making N x D\n",
        "X = clean_data_arr[:,1]"
      ],
      "metadata": {
        "id": "k622wpsjFDK5"
      },
      "execution_count": 164,
      "outputs": []
    },
    {
      "cell_type": "code",
      "source": [
        "#Plot data\n",
        "plt.scatter(X, Y);"
      ],
      "metadata": {
        "colab": {
          "base_uri": "https://localhost:8080/",
          "height": 445
        },
        "id": "_TBVO0hPP8Zs",
        "outputId": "09c881e7-915f-4a5d-f84f-a423155e7faa"
      },
      "execution_count": 165,
      "outputs": [
        {
          "output_type": "display_data",
          "data": {
            "text/plain": [
              "<Figure size 640x480 with 1 Axes>"
            ],
            "image/png": "[encoded data removed]"
          },
          "metadata": {}
        }
      ]
    },
    {
      "cell_type": "code",
      "source": [
        "Y = np.log(Y)"
      ],
      "metadata": {
        "id": "s9AfOr-vQhrX"
      },
      "execution_count": 167,
      "outputs": []
    },
    {
      "cell_type": "code",
      "source": [
        "#Plot data after linearization\n",
        "plt.scatter(X, Y)"
      ],
      "metadata": {
        "colab": {
          "base_uri": "https://localhost:8080/",
          "height": 448
        },
        "id": "c0lOID0DTHX9",
        "outputId": "a368ec59-ec0f-4547-976c-8307a5e6e50a"
      },
      "execution_count": 168,
      "outputs": [
        {
          "output_type": "execute_result",
          "data": {
            "text/plain": [
              "<matplotlib.collections.PathCollection at 0x79757eac7070>"
            ]
          },
          "metadata": {},
          "execution_count": 168
        },
        {
          "output_type": "display_data",
          "data": {
            "text/plain": [
              "<Figure size 640x480 with 1 Axes>"
            ],
            "image/png": "[encoded data removed]"
          },
          "metadata": {}
        }
      ]
    },
    {
      "cell_type": "code",
      "source": [
        "X = X - X.mean()"
      ],
      "metadata": {
        "id": "y_Qbo-klTlUU"
      },
      "execution_count": 170,
      "outputs": []
    },
    {
      "cell_type": "code",
      "source": [
        "#Plot after fixing X scale for regression\n",
        "plt.scatter(X, Y)"
      ],
      "metadata": {
        "colab": {
          "base_uri": "https://localhost:8080/",
          "height": 448
        },
        "id": "jLezhQ6tToWz",
        "outputId": "a6ca270a-b21a-4453-a0d4-07302cb45dfd"
      },
      "execution_count": 171,
      "outputs": [
        {
          "output_type": "execute_result",
          "data": {
            "text/plain": [
              "<matplotlib.collections.PathCollection at 0x79757e739150>"
            ]
          },
          "metadata": {},
          "execution_count": 171
        },
        {
          "output_type": "display_data",
          "data": {
            "text/plain": [
              "<Figure size 640x480 with 1 Axes>"
            ],
            "image/png": "[encoded data removed]"
          },
          "metadata": {}
        }
      ]
    },
    {
      "cell_type": "code",
      "source": [
        "model = tf.keras.models.Sequential([\n",
        "    tf.keras.layers.Input(shape=(1, )),\n",
        "    tf.keras.layers.Dense(1),\n",
        "])"
      ],
      "metadata": {
        "id": "QF8Iq0p0T_C3"
      },
      "execution_count": 172,
      "outputs": []
    },
    {
      "cell_type": "code",
      "source": [
        "model.compile(\n",
        "    optimizer=tf.keras.optimizers.SGD(0.001, 0.9),\n",
        "    loss='mse',\n",
        ")"
      ],
      "metadata": {
        "id": "bJ6idssJUMbU"
      },
      "execution_count": 173,
      "outputs": []
    },
    {
      "cell_type": "code",
      "source": [
        "def schedule(epoch, learning_rate):\n",
        "  if epoch >= 50:\n",
        "    return 0.0001\n",
        "  return 0.001\n",
        "\n",
        "scheduler = tf.keras.callbacks.LearningRateScheduler(schedule)"
      ],
      "metadata": {
        "id": "rwaF93cQUbG_"
      },
      "execution_count": 174,
      "outputs": []
    },
    {
      "cell_type": "code",
      "source": [
        "# Train the model\n",
        "r = model.fit(X, Y, epochs=200, callbacks=[scheduler])"
      ],
      "metadata": {
        "colab": {
          "base_uri": "https://localhost:8080/"
        },
        "id": "EhuyLiGoU3or",
        "outputId": "6bdc9f30-3c52-4b09-aa22-526bc231002e"
      },
      "execution_count": 175,
      "outputs": [
        {
          "output_type": "stream",
          "name": "stdout",
          "text": [
            "Epoch 1/200\n",
            "3/3 [==============================] - 0s 8ms/step - loss: 333.2617 - lr: 0.0010\n",
            "Epoch 2/200\n",
            "3/3 [==============================] - 0s 4ms/step - loss: 287.1940 - lr: 0.0010\n",
            "Epoch 3/200\n",
            "3/3 [==============================] - 0s 4ms/step - loss: 275.0366 - lr: 0.0010\n",
            "Epoch 4/200\n",
            "3/3 [==============================] - 0s 4ms/step - loss: 263.1059 - lr: 0.0010\n",
            "Epoch 5/200\n",
            "3/3 [==============================] - 0s 4ms/step - loss: 234.4053 - lr: 0.0010\n",
            "Epoch 6/200\n",
            "3/3 [==============================] - 0s 5ms/step - loss: 206.8033 - lr: 0.0010\n",
            "Epoch 7/200\n",
            "3/3 [==============================] - 0s 4ms/step - loss: 196.3436 - lr: 0.0010\n",
            "Epoch 8/200\n",
            "3/3 [==============================] - 0s 6ms/step - loss: 160.2680 - lr: 0.0010\n",
            "Epoch 9/200\n",
            "3/3 [==============================] - 0s 4ms/step - loss: 184.5978 - lr: 0.0010\n",
            "Epoch 10/200\n",
            "3/3 [==============================] - 0s 9ms/step - loss: 132.2938 - lr: 0.0010\n",
            "Epoch 11/200\n",
            "3/3 [==============================] - 0s 5ms/step - loss: 154.0476 - lr: 0.0010\n",
            "Epoch 12/200\n",
            "3/3 [==============================] - 0s 4ms/step - loss: 114.6866 - lr: 0.0010\n",
            "Epoch 13/200\n",
            "3/3 [==============================] - 0s 4ms/step - loss: 110.1040 - lr: 0.0010\n",
            "Epoch 14/200\n",
            "3/3 [==============================] - 0s 4ms/step - loss: 94.8198 - lr: 0.0010\n",
            "Epoch 15/200\n",
            "3/3 [==============================] - 0s 4ms/step - loss: 65.3062 - lr: 0.0010\n",
            "Epoch 16/200\n",
            "3/3 [==============================] - 0s 4ms/step - loss: 62.1310 - lr: 0.0010\n",
            "Epoch 17/200\n",
            "3/3 [==============================] - 0s 4ms/step - loss: 48.3801 - lr: 0.0010\n",
            "Epoch 18/200\n",
            "3/3 [==============================] - 0s 4ms/step - loss: 40.2993 - lr: 0.0010\n",
            "Epoch 19/200\n",
            "3/3 [==============================] - 0s 4ms/step - loss: 34.9497 - lr: 0.0010\n",
            "Epoch 20/200\n",
            "3/3 [==============================] - 0s 4ms/step - loss: 30.6282 - lr: 0.0010\n",
            "Epoch 21/200\n",
            "3/3 [==============================] - 0s 5ms/step - loss: 26.3099 - lr: 0.0010\n",
            "Epoch 22/200\n",
            "3/3 [==============================] - 0s 4ms/step - loss: 21.9609 - lr: 0.0010\n",
            "Epoch 23/200\n",
            "3/3 [==============================] - 0s 4ms/step - loss: 19.6810 - lr: 0.0010\n",
            "Epoch 24/200\n",
            "3/3 [==============================] - 0s 4ms/step - loss: 18.3579 - lr: 0.0010\n",
            "Epoch 25/200\n",
            "3/3 [==============================] - 0s 4ms/step - loss: 15.9547 - lr: 0.0010\n",
            "Epoch 26/200\n",
            "3/3 [==============================] - 0s 5ms/step - loss: 12.0686 - lr: 0.0010\n",
            "Epoch 27/200\n",
            "3/3 [==============================] - 0s 4ms/step - loss: 10.4098 - lr: 0.0010\n",
            "Epoch 28/200\n",
            "3/3 [==============================] - 0s 4ms/step - loss: 9.1208 - lr: 0.0010\n",
            "Epoch 29/200\n",
            "3/3 [==============================] - 0s 4ms/step - loss: 7.8964 - lr: 0.0010\n",
            "Epoch 30/200\n",
            "3/3 [==============================] - 0s 4ms/step - loss: 6.8567 - lr: 0.0010\n",
            "Epoch 31/200\n",
            "3/3 [==============================] - 0s 4ms/step - loss: 5.9185 - lr: 0.0010\n",
            "Epoch 32/200\n",
            "3/3 [==============================] - 0s 4ms/step - loss: 4.9046 - lr: 0.0010\n",
            "Epoch 33/200\n",
            "3/3 [==============================] - 0s 4ms/step - loss: 6.1676 - lr: 0.0010\n",
            "Epoch 34/200\n",
            "3/3 [==============================] - 0s 4ms/step - loss: 4.2575 - lr: 0.0010\n",
            "Epoch 35/200\n",
            "3/3 [==============================] - 0s 4ms/step - loss: 5.4020 - lr: 0.0010\n",
            "Epoch 36/200\n",
            "3/3 [==============================] - 0s 4ms/step - loss: 3.1946 - lr: 0.0010\n",
            "Epoch 37/200\n",
            "3/3 [==============================] - 0s 5ms/step - loss: 2.5270 - lr: 0.0010\n",
            "Epoch 38/200\n",
            "3/3 [==============================] - 0s 5ms/step - loss: 3.0333 - lr: 0.0010\n",
            "Epoch 39/200\n",
            "3/3 [==============================] - 0s 4ms/step - loss: 2.0474 - lr: 0.0010\n",
            "Epoch 40/200\n",
            "3/3 [==============================] - 0s 4ms/step - loss: 3.2433 - lr: 0.0010\n",
            "Epoch 41/200\n",
            "3/3 [==============================] - 0s 4ms/step - loss: 1.7679 - lr: 0.0010\n",
            "Epoch 42/200\n",
            "3/3 [==============================] - 0s 4ms/step - loss: 1.7522 - lr: 0.0010\n",
            "Epoch 43/200\n",
            "3/3 [==============================] - 0s 4ms/step - loss: 1.3722 - lr: 0.0010\n",
            "Epoch 44/200\n",
            "3/3 [==============================] - 0s 4ms/step - loss: 1.3238 - lr: 0.0010\n",
            "Epoch 45/200\n",
            "3/3 [==============================] - 0s 6ms/step - loss: 1.1918 - lr: 0.0010\n",
            "Epoch 46/200\n",
            "3/3 [==============================] - 0s 4ms/step - loss: 1.2012 - lr: 0.0010\n",
            "Epoch 47/200\n",
            "3/3 [==============================] - 0s 4ms/step - loss: 1.1069 - lr: 0.0010\n",
            "Epoch 48/200\n",
            "3/3 [==============================] - 0s 4ms/step - loss: 0.9627 - lr: 0.0010\n",
            "Epoch 49/200\n",
            "3/3 [==============================] - 0s 4ms/step - loss: 0.9417 - lr: 0.0010\n",
            "Epoch 50/200\n",
            "3/3 [==============================] - 0s 4ms/step - loss: 0.8556 - lr: 0.0010\n",
            "Epoch 51/200\n",
            "3/3 [==============================] - 0s 4ms/step - loss: 1.1221 - lr: 1.0000e-04\n",
            "Epoch 52/200\n",
            "3/3 [==============================] - 0s 4ms/step - loss: 1.8338 - lr: 1.0000e-04\n",
            "Epoch 53/200\n",
            "3/3 [==============================] - 0s 4ms/step - loss: 1.9645 - lr: 1.0000e-04\n",
            "Epoch 54/200\n",
            "3/3 [==============================] - 0s 5ms/step - loss: 1.4755 - lr: 1.0000e-04\n",
            "Epoch 55/200\n",
            "3/3 [==============================] - 0s 6ms/step - loss: 0.9530 - lr: 1.0000e-04\n",
            "Epoch 56/200\n",
            "3/3 [==============================] - 0s 5ms/step - loss: 0.7411 - lr: 1.0000e-04\n",
            "Epoch 57/200\n",
            "3/3 [==============================] - 0s 4ms/step - loss: 0.7900 - lr: 1.0000e-04\n",
            "Epoch 58/200\n",
            "3/3 [==============================] - 0s 4ms/step - loss: 0.8891 - lr: 1.0000e-04\n",
            "Epoch 59/200\n",
            "3/3 [==============================] - 0s 5ms/step - loss: 0.9195 - lr: 1.0000e-04\n",
            "Epoch 60/200\n",
            "3/3 [==============================] - 0s 4ms/step - loss: 0.8677 - lr: 1.0000e-04\n",
            "Epoch 61/200\n",
            "3/3 [==============================] - 0s 4ms/step - loss: 0.7932 - lr: 1.0000e-04\n",
            "Epoch 62/200\n",
            "3/3 [==============================] - 0s 4ms/step - loss: 0.7259 - lr: 1.0000e-04\n",
            "Epoch 63/200\n",
            "3/3 [==============================] - 0s 4ms/step - loss: 0.7118 - lr: 1.0000e-04\n",
            "Epoch 64/200\n",
            "3/3 [==============================] - 0s 5ms/step - loss: 0.7226 - lr: 1.0000e-04\n",
            "Epoch 65/200\n",
            "3/3 [==============================] - 0s 4ms/step - loss: 0.7501 - lr: 1.0000e-04\n",
            "Epoch 66/200\n",
            "3/3 [==============================] - 0s 4ms/step - loss: 0.7976 - lr: 1.0000e-04\n",
            "Epoch 67/200\n",
            "3/3 [==============================] - 0s 4ms/step - loss: 0.7822 - lr: 1.0000e-04\n",
            "Epoch 68/200\n",
            "3/3 [==============================] - 0s 4ms/step - loss: 0.7395 - lr: 1.0000e-04\n",
            "Epoch 69/200\n",
            "3/3 [==============================] - 0s 4ms/step - loss: 0.7121 - lr: 1.0000e-04\n",
            "Epoch 70/200\n",
            "3/3 [==============================] - 0s 4ms/step - loss: 0.6990 - lr: 1.0000e-04\n",
            "Epoch 71/200\n",
            "3/3 [==============================] - 0s 4ms/step - loss: 0.7097 - lr: 1.0000e-04\n",
            "Epoch 72/200\n",
            "3/3 [==============================] - 0s 4ms/step - loss: 0.7159 - lr: 1.0000e-04\n",
            "Epoch 73/200\n",
            "3/3 [==============================] - 0s 4ms/step - loss: 0.7139 - lr: 1.0000e-04\n",
            "Epoch 74/200\n",
            "3/3 [==============================] - 0s 4ms/step - loss: 0.7092 - lr: 1.0000e-04\n",
            "Epoch 75/200\n",
            "3/3 [==============================] - 0s 5ms/step - loss: 0.7042 - lr: 1.0000e-04\n",
            "Epoch 76/200\n",
            "3/3 [==============================] - 0s 4ms/step - loss: 0.6931 - lr: 1.0000e-04\n",
            "Epoch 77/200\n",
            "3/3 [==============================] - 0s 4ms/step - loss: 0.6951 - lr: 1.0000e-04\n",
            "Epoch 78/200\n",
            "3/3 [==============================] - 0s 4ms/step - loss: 0.6946 - lr: 1.0000e-04\n",
            "Epoch 79/200\n",
            "3/3 [==============================] - 0s 4ms/step - loss: 0.6930 - lr: 1.0000e-04\n",
            "Epoch 80/200\n",
            "3/3 [==============================] - 0s 6ms/step - loss: 0.6887 - lr: 1.0000e-04\n",
            "Epoch 81/200\n",
            "3/3 [==============================] - 0s 5ms/step - loss: 0.6905 - lr: 1.0000e-04\n",
            "Epoch 82/200\n",
            "3/3 [==============================] - 0s 4ms/step - loss: 0.6974 - lr: 1.0000e-04\n",
            "Epoch 83/200\n",
            "3/3 [==============================] - 0s 5ms/step - loss: 0.6958 - lr: 1.0000e-04\n",
            "Epoch 84/200\n",
            "3/3 [==============================] - 0s 4ms/step - loss: 0.6868 - lr: 1.0000e-04\n",
            "Epoch 85/200\n",
            "3/3 [==============================] - 0s 4ms/step - loss: 0.6836 - lr: 1.0000e-04\n",
            "Epoch 86/200\n",
            "3/3 [==============================] - 0s 4ms/step - loss: 0.6827 - lr: 1.0000e-04\n",
            "Epoch 87/200\n",
            "3/3 [==============================] - 0s 4ms/step - loss: 0.6806 - lr: 1.0000e-04\n",
            "Epoch 88/200\n",
            "3/3 [==============================] - 0s 4ms/step - loss: 0.6785 - lr: 1.0000e-04\n",
            "Epoch 89/200\n",
            "3/3 [==============================] - 0s 4ms/step - loss: 0.6802 - lr: 1.0000e-04\n",
            "Epoch 90/200\n",
            "3/3 [==============================] - 0s 4ms/step - loss: 0.6836 - lr: 1.0000e-04\n",
            "Epoch 91/200\n",
            "3/3 [==============================] - 0s 4ms/step - loss: 0.6914 - lr: 1.0000e-04\n",
            "Epoch 92/200\n",
            "3/3 [==============================] - 0s 4ms/step - loss: 0.6909 - lr: 1.0000e-04\n",
            "Epoch 93/200\n",
            "3/3 [==============================] - 0s 4ms/step - loss: 0.6839 - lr: 1.0000e-04\n",
            "Epoch 94/200\n",
            "3/3 [==============================] - 0s 4ms/step - loss: 0.6785 - lr: 1.0000e-04\n",
            "Epoch 95/200\n",
            "3/3 [==============================] - 0s 4ms/step - loss: 0.6781 - lr: 1.0000e-04\n",
            "Epoch 96/200\n",
            "3/3 [==============================] - 0s 4ms/step - loss: 0.6789 - lr: 1.0000e-04\n",
            "Epoch 97/200\n",
            "3/3 [==============================] - 0s 4ms/step - loss: 0.6774 - lr: 1.0000e-04\n",
            "Epoch 98/200\n",
            "3/3 [==============================] - 0s 4ms/step - loss: 0.6733 - lr: 1.0000e-04\n",
            "Epoch 99/200\n",
            "3/3 [==============================] - 0s 4ms/step - loss: 0.6713 - lr: 1.0000e-04\n",
            "Epoch 100/200\n",
            "3/3 [==============================] - 0s 4ms/step - loss: 0.6694 - lr: 1.0000e-04\n",
            "Epoch 101/200\n",
            "3/3 [==============================] - 0s 4ms/step - loss: 0.6745 - lr: 1.0000e-04\n",
            "Epoch 102/200\n",
            "3/3 [==============================] - 0s 4ms/step - loss: 0.6834 - lr: 1.0000e-04\n",
            "Epoch 103/200\n",
            "3/3 [==============================] - 0s 4ms/step - loss: 0.6856 - lr: 1.0000e-04\n",
            "Epoch 104/200\n",
            "3/3 [==============================] - 0s 4ms/step - loss: 0.6795 - lr: 1.0000e-04\n",
            "Epoch 105/200\n",
            "3/3 [==============================] - 0s 4ms/step - loss: 0.6726 - lr: 1.0000e-04\n",
            "Epoch 106/200\n",
            "3/3 [==============================] - 0s 4ms/step - loss: 0.6613 - lr: 1.0000e-04\n",
            "Epoch 107/200\n",
            "3/3 [==============================] - 0s 4ms/step - loss: 0.6714 - lr: 1.0000e-04\n",
            "Epoch 108/200\n",
            "3/3 [==============================] - 0s 4ms/step - loss: 0.6973 - lr: 1.0000e-04\n",
            "Epoch 109/200\n",
            "3/3 [==============================] - 0s 5ms/step - loss: 0.7069 - lr: 1.0000e-04\n",
            "Epoch 110/200\n",
            "3/3 [==============================] - 0s 5ms/step - loss: 0.6855 - lr: 1.0000e-04\n",
            "Epoch 111/200\n",
            "3/3 [==============================] - 0s 7ms/step - loss: 0.6634 - lr: 1.0000e-04\n",
            "Epoch 112/200\n",
            "3/3 [==============================] - 0s 6ms/step - loss: 0.6645 - lr: 1.0000e-04\n",
            "Epoch 113/200\n",
            "3/3 [==============================] - 0s 4ms/step - loss: 0.6668 - lr: 1.0000e-04\n",
            "Epoch 114/200\n",
            "3/3 [==============================] - 0s 6ms/step - loss: 0.6620 - lr: 1.0000e-04\n",
            "Epoch 115/200\n",
            "3/3 [==============================] - 0s 5ms/step - loss: 0.6560 - lr: 1.0000e-04\n",
            "Epoch 116/200\n",
            "3/3 [==============================] - 0s 4ms/step - loss: 0.6551 - lr: 1.0000e-04\n",
            "Epoch 117/200\n",
            "3/3 [==============================] - 0s 5ms/step - loss: 0.6538 - lr: 1.0000e-04\n",
            "Epoch 118/200\n",
            "3/3 [==============================] - 0s 5ms/step - loss: 0.6544 - lr: 1.0000e-04\n",
            "Epoch 119/200\n",
            "3/3 [==============================] - 0s 4ms/step - loss: 0.6523 - lr: 1.0000e-04\n",
            "Epoch 120/200\n",
            "3/3 [==============================] - 0s 5ms/step - loss: 0.6539 - lr: 1.0000e-04\n",
            "Epoch 121/200\n",
            "3/3 [==============================] - 0s 4ms/step - loss: 0.6541 - lr: 1.0000e-04\n",
            "Epoch 122/200\n",
            "3/3 [==============================] - 0s 4ms/step - loss: 0.6529 - lr: 1.0000e-04\n",
            "Epoch 123/200\n",
            "3/3 [==============================] - 0s 4ms/step - loss: 0.6546 - lr: 1.0000e-04\n",
            "Epoch 124/200\n",
            "3/3 [==============================] - 0s 5ms/step - loss: 0.6579 - lr: 1.0000e-04\n",
            "Epoch 125/200\n",
            "3/3 [==============================] - 0s 4ms/step - loss: 0.6556 - lr: 1.0000e-04\n",
            "Epoch 126/200\n",
            "3/3 [==============================] - 0s 4ms/step - loss: 0.6503 - lr: 1.0000e-04\n",
            "Epoch 127/200\n",
            "3/3 [==============================] - 0s 5ms/step - loss: 0.6450 - lr: 1.0000e-04\n",
            "Epoch 128/200\n",
            "3/3 [==============================] - 0s 4ms/step - loss: 0.6472 - lr: 1.0000e-04\n",
            "Epoch 129/200\n",
            "3/3 [==============================] - 0s 4ms/step - loss: 0.6449 - lr: 1.0000e-04\n",
            "Epoch 130/200\n",
            "3/3 [==============================] - 0s 6ms/step - loss: 0.6442 - lr: 1.0000e-04\n",
            "Epoch 131/200\n",
            "3/3 [==============================] - 0s 4ms/step - loss: 0.6420 - lr: 1.0000e-04\n",
            "Epoch 132/200\n",
            "3/3 [==============================] - 0s 4ms/step - loss: 0.6416 - lr: 1.0000e-04\n",
            "Epoch 133/200\n",
            "3/3 [==============================] - 0s 5ms/step - loss: 0.6413 - lr: 1.0000e-04\n",
            "Epoch 134/200\n",
            "3/3 [==============================] - 0s 4ms/step - loss: 0.6402 - lr: 1.0000e-04\n",
            "Epoch 135/200\n",
            "3/3 [==============================] - 0s 6ms/step - loss: 0.6421 - lr: 1.0000e-04\n",
            "Epoch 136/200\n",
            "3/3 [==============================] - 0s 5ms/step - loss: 0.6410 - lr: 1.0000e-04\n",
            "Epoch 137/200\n",
            "3/3 [==============================] - 0s 5ms/step - loss: 0.6405 - lr: 1.0000e-04\n",
            "Epoch 138/200\n",
            "3/3 [==============================] - 0s 5ms/step - loss: 0.6423 - lr: 1.0000e-04\n",
            "Epoch 139/200\n",
            "3/3 [==============================] - 0s 4ms/step - loss: 0.6412 - lr: 1.0000e-04\n",
            "Epoch 140/200\n",
            "3/3 [==============================] - 0s 4ms/step - loss: 0.6391 - lr: 1.0000e-04\n",
            "Epoch 141/200\n",
            "3/3 [==============================] - 0s 4ms/step - loss: 0.6353 - lr: 1.0000e-04\n",
            "Epoch 142/200\n",
            "3/3 [==============================] - 0s 4ms/step - loss: 0.6389 - lr: 1.0000e-04\n",
            "Epoch 143/200\n",
            "3/3 [==============================] - 0s 4ms/step - loss: 0.6413 - lr: 1.0000e-04\n",
            "Epoch 144/200\n",
            "3/3 [==============================] - 0s 4ms/step - loss: 0.6406 - lr: 1.0000e-04\n",
            "Epoch 145/200\n",
            "3/3 [==============================] - 0s 4ms/step - loss: 0.6391 - lr: 1.0000e-04\n",
            "Epoch 146/200\n",
            "3/3 [==============================] - 0s 5ms/step - loss: 0.6351 - lr: 1.0000e-04\n",
            "Epoch 147/200\n",
            "3/3 [==============================] - 0s 5ms/step - loss: 0.6334 - lr: 1.0000e-04\n",
            "Epoch 148/200\n",
            "3/3 [==============================] - 0s 6ms/step - loss: 0.6319 - lr: 1.0000e-04\n",
            "Epoch 149/200\n",
            "3/3 [==============================] - 0s 4ms/step - loss: 0.6335 - lr: 1.0000e-04\n",
            "Epoch 150/200\n",
            "3/3 [==============================] - 0s 4ms/step - loss: 0.6331 - lr: 1.0000e-04\n",
            "Epoch 151/200\n",
            "3/3 [==============================] - 0s 5ms/step - loss: 0.6322 - lr: 1.0000e-04\n",
            "Epoch 152/200\n",
            "3/3 [==============================] - 0s 4ms/step - loss: 0.6313 - lr: 1.0000e-04\n",
            "Epoch 153/200\n",
            "3/3 [==============================] - 0s 4ms/step - loss: 0.6295 - lr: 1.0000e-04\n",
            "Epoch 154/200\n",
            "3/3 [==============================] - 0s 4ms/step - loss: 0.6308 - lr: 1.0000e-04\n",
            "Epoch 155/200\n",
            "3/3 [==============================] - 0s 5ms/step - loss: 0.6302 - lr: 1.0000e-04\n",
            "Epoch 156/200\n",
            "3/3 [==============================] - 0s 6ms/step - loss: 0.6293 - lr: 1.0000e-04\n",
            "Epoch 157/200\n",
            "3/3 [==============================] - 0s 6ms/step - loss: 0.6285 - lr: 1.0000e-04\n",
            "Epoch 158/200\n",
            "3/3 [==============================] - 0s 4ms/step - loss: 0.6333 - lr: 1.0000e-04\n",
            "Epoch 159/200\n",
            "3/3 [==============================] - 0s 4ms/step - loss: 0.6339 - lr: 1.0000e-04\n",
            "Epoch 160/200\n",
            "3/3 [==============================] - 0s 5ms/step - loss: 0.6318 - lr: 1.0000e-04\n",
            "Epoch 161/200\n",
            "3/3 [==============================] - 0s 5ms/step - loss: 0.6237 - lr: 1.0000e-04\n",
            "Epoch 162/200\n",
            "3/3 [==============================] - 0s 5ms/step - loss: 0.6264 - lr: 1.0000e-04\n",
            "Epoch 163/200\n",
            "3/3 [==============================] - 0s 5ms/step - loss: 0.6404 - lr: 1.0000e-04\n",
            "Epoch 164/200\n",
            "3/3 [==============================] - 0s 5ms/step - loss: 0.6479 - lr: 1.0000e-04\n",
            "Epoch 165/200\n",
            "3/3 [==============================] - 0s 4ms/step - loss: 0.6421 - lr: 1.0000e-04\n",
            "Epoch 166/200\n",
            "3/3 [==============================] - 0s 4ms/step - loss: 0.6314 - lr: 1.0000e-04\n",
            "Epoch 167/200\n",
            "3/3 [==============================] - 0s 5ms/step - loss: 0.6215 - lr: 1.0000e-04\n",
            "Epoch 168/200\n",
            "3/3 [==============================] - 0s 5ms/step - loss: 0.6245 - lr: 1.0000e-04\n",
            "Epoch 169/200\n",
            "3/3 [==============================] - 0s 7ms/step - loss: 0.6296 - lr: 1.0000e-04\n",
            "Epoch 170/200\n",
            "3/3 [==============================] - 0s 5ms/step - loss: 0.6315 - lr: 1.0000e-04\n",
            "Epoch 171/200\n",
            "3/3 [==============================] - 0s 4ms/step - loss: 0.6245 - lr: 1.0000e-04\n",
            "Epoch 172/200\n",
            "3/3 [==============================] - 0s 4ms/step - loss: 0.6220 - lr: 1.0000e-04\n",
            "Epoch 173/200\n",
            "3/3 [==============================] - 0s 4ms/step - loss: 0.6247 - lr: 1.0000e-04\n",
            "Epoch 174/200\n",
            "3/3 [==============================] - 0s 4ms/step - loss: 0.6286 - lr: 1.0000e-04\n",
            "Epoch 175/200\n",
            "3/3 [==============================] - 0s 4ms/step - loss: 0.6262 - lr: 1.0000e-04\n",
            "Epoch 176/200\n",
            "3/3 [==============================] - 0s 4ms/step - loss: 0.6223 - lr: 1.0000e-04\n",
            "Epoch 177/200\n",
            "3/3 [==============================] - 0s 4ms/step - loss: 0.6193 - lr: 1.0000e-04\n",
            "Epoch 178/200\n",
            "3/3 [==============================] - 0s 5ms/step - loss: 0.6171 - lr: 1.0000e-04\n",
            "Epoch 179/200\n",
            "3/3 [==============================] - 0s 4ms/step - loss: 0.6183 - lr: 1.0000e-04\n",
            "Epoch 180/200\n",
            "3/3 [==============================] - 0s 4ms/step - loss: 0.6151 - lr: 1.0000e-04\n",
            "Epoch 181/200\n",
            "3/3 [==============================] - 0s 4ms/step - loss: 0.6173 - lr: 1.0000e-04\n",
            "Epoch 182/200\n",
            "3/3 [==============================] - 0s 4ms/step - loss: 0.6166 - lr: 1.0000e-04\n",
            "Epoch 183/200\n",
            "3/3 [==============================] - 0s 4ms/step - loss: 0.6168 - lr: 1.0000e-04\n",
            "Epoch 184/200\n",
            "3/3 [==============================] - 0s 4ms/step - loss: 0.6160 - lr: 1.0000e-04\n",
            "Epoch 185/200\n",
            "3/3 [==============================] - 0s 4ms/step - loss: 0.6160 - lr: 1.0000e-04\n",
            "Epoch 186/200\n",
            "3/3 [==============================] - 0s 5ms/step - loss: 0.6149 - lr: 1.0000e-04\n",
            "Epoch 187/200\n",
            "3/3 [==============================] - 0s 4ms/step - loss: 0.6137 - lr: 1.0000e-04\n",
            "Epoch 188/200\n",
            "3/3 [==============================] - 0s 4ms/step - loss: 0.6130 - lr: 1.0000e-04\n",
            "Epoch 189/200\n",
            "3/3 [==============================] - 0s 5ms/step - loss: 0.6128 - lr: 1.0000e-04\n",
            "Epoch 190/200\n",
            "3/3 [==============================] - 0s 4ms/step - loss: 0.6127 - lr: 1.0000e-04\n",
            "Epoch 191/200\n",
            "3/3 [==============================] - 0s 5ms/step - loss: 0.6126 - lr: 1.0000e-04\n",
            "Epoch 192/200\n",
            "3/3 [==============================] - 0s 4ms/step - loss: 0.6121 - lr: 1.0000e-04\n",
            "Epoch 193/200\n",
            "3/3 [==============================] - 0s 5ms/step - loss: 0.6111 - lr: 1.0000e-04\n",
            "Epoch 194/200\n",
            "3/3 [==============================] - 0s 4ms/step - loss: 0.6108 - lr: 1.0000e-04\n",
            "Epoch 195/200\n",
            "3/3 [==============================] - 0s 4ms/step - loss: 0.6107 - lr: 1.0000e-04\n",
            "Epoch 196/200\n",
            "3/3 [==============================] - 0s 4ms/step - loss: 0.6108 - lr: 1.0000e-04\n",
            "Epoch 197/200\n",
            "3/3 [==============================] - 0s 4ms/step - loss: 0.6118 - lr: 1.0000e-04\n",
            "Epoch 198/200\n",
            "3/3 [==============================] - 0s 4ms/step - loss: 0.6102 - lr: 1.0000e-04\n",
            "Epoch 199/200\n",
            "3/3 [==============================] - 0s 4ms/step - loss: 0.6097 - lr: 1.0000e-04\n",
            "Epoch 200/200\n",
            "3/3 [==============================] - 0s 4ms/step - loss: 0.6108 - lr: 1.0000e-04\n"
          ]
        }
      ]
    },
    {
      "cell_type": "code",
      "source": [
        "# Plot the loss\n",
        "plt.plot(r.history['loss'], label='loss');\n",
        "plt.legend();"
      ],
      "metadata": {
        "colab": {
          "base_uri": "https://localhost:8080/",
          "height": 430
        },
        "id": "8m8JpQcpVbyq",
        "outputId": "e36eb300-3a02-43b4-d125-caa22b5ca04c"
      },
      "execution_count": 176,
      "outputs": [
        {
          "output_type": "display_data",
          "data": {
            "text/plain": [
              "<Figure size 640x480 with 1 Axes>"
            ],
            "image/png": "[encoded data removed]"
          },
          "metadata": {}
        }
      ]
    },
    {
      "cell_type": "code",
      "source": [
        "model.layers"
      ],
      "metadata": {
        "colab": {
          "base_uri": "https://localhost:8080/"
        },
        "id": "XzlAKJVJVpHA",
        "outputId": "88c71cce-5344-4ac8-e378-b527077b99ca"
      },
      "execution_count": 177,
      "outputs": [
        {
          "output_type": "execute_result",
          "data": {
            "text/plain": [
              "[<keras.src.layers.core.dense.Dense at 0x79757b59b100>]"
            ]
          },
          "metadata": {},
          "execution_count": 177
        }
      ]
    },
    {
      "cell_type": "code",
      "source": [
        "model.layers[0].get_weights()"
      ],
      "metadata": {
        "colab": {
          "base_uri": "https://localhost:8080/"
        },
        "id": "pWZ2ApnIVzdK",
        "outputId": "733967fa-ce11-4acb-c2f1-9a8aa38d5387"
      },
      "execution_count": 178,
      "outputs": [
        {
          "output_type": "execute_result",
          "data": {
            "text/plain": [
              "[array([[0.33703768]], dtype=float32), array([16.835257], dtype=float32)]"
            ]
          },
          "metadata": {},
          "execution_count": 178
        }
      ]
    },
    {
      "cell_type": "code",
      "source": [
        "a = model.layers[0].get_weights()[0][0,0]"
      ],
      "metadata": {
        "id": "87YEkjvqV8Mx"
      },
      "execution_count": 179,
      "outputs": []
    },
    {
      "cell_type": "code",
      "source": [
        "import math\n",
        "math.log(2)/0.337\n"
      ],
      "metadata": {
        "colab": {
          "base_uri": "https://localhost:8080/"
        },
        "id": "_uiEEJmqWHnz",
        "outputId": "d2abbc3e-c8f5-4f5f-cca3-9092b01070a1"
      },
      "execution_count": 188,
      "outputs": [
        {
          "output_type": "execute_result",
          "data": {
            "text/plain": [
              "2.05681655952506"
            ]
          },
          "metadata": {},
          "execution_count": 188
        }
      ]
    }
  ]
}